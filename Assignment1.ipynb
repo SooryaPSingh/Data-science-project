{
  "cells": [
    {
      "cell_type": "code",
      "execution_count": null,
      "metadata": {
        "colab": {
          "base_uri": "https://localhost:8080/"
        },
        "id": "5qRnsfZPaiIH",
        "outputId": "adb4200c-9075-4c7f-f5c1-8917303d42a7"
      },
      "outputs": [
        {
          "data": {
            "text/plain": [
              "2"
            ]
          },
          "execution_count": 1,
          "metadata": {},
          "output_type": "execute_result"
        }
      ],
      "source": [
        "1 +  1\n",
        "\n"
      ]
    },
    {
      "cell_type": "code",
      "execution_count": null,
      "metadata": {
        "colab": {
          "base_uri": "https://localhost:8080/"
        },
        "id": "MhLL4GRra-Ht",
        "outputId": "3b57c50a-30c4-4bca-c782-718cb5ddbbcb"
      },
      "outputs": [
        {
          "data": {
            "text/plain": [
              "3"
            ]
          },
          "execution_count": 2,
          "metadata": {},
          "output_type": "execute_result"
        }
      ],
      "source": [
        "1 * 3"
      ]
    },
    {
      "cell_type": "code",
      "execution_count": null,
      "metadata": {
        "colab": {
          "base_uri": "https://localhost:8080/"
        },
        "id": "ODCw2PU2bCiC",
        "outputId": "4d21fc80-4d65-4bcd-a015-c38be0f7f9ef"
      },
      "outputs": [
        {
          "data": {
            "text/plain": [
              "0.5"
            ]
          },
          "execution_count": 3,
          "metadata": {},
          "output_type": "execute_result"
        }
      ],
      "source": [
        "1 / 2"
      ]
    },
    {
      "cell_type": "code",
      "execution_count": null,
      "metadata": {
        "colab": {
          "base_uri": "https://localhost:8080/"
        },
        "id": "egt9ifBxbHZB",
        "outputId": "da0cc932-8782-4b94-ce58-09f480432ddb"
      },
      "outputs": [
        {
          "data": {
            "text/plain": [
              "16"
            ]
          },
          "execution_count": 4,
          "metadata": {},
          "output_type": "execute_result"
        }
      ],
      "source": [
        "2 ** 4"
      ]
    },
    {
      "cell_type": "code",
      "execution_count": null,
      "metadata": {
        "colab": {
          "base_uri": "https://localhost:8080/"
        },
        "id": "8Y2igUYjbOk3",
        "outputId": "0b1dfb2d-b1f5-4a04-fad0-1c046c6d0fb1"
      },
      "outputs": [
        {
          "data": {
            "text/plain": [
              "0"
            ]
          },
          "execution_count": 5,
          "metadata": {},
          "output_type": "execute_result"
        }
      ],
      "source": [
        "4 % 2  "
      ]
    },
    {
      "cell_type": "code",
      "execution_count": null,
      "metadata": {
        "colab": {
          "base_uri": "https://localhost:8080/"
        },
        "id": "hcQzGtMJbTvm",
        "outputId": "ee38a3f8-9a67-4721-df40-550b449582d0"
      },
      "outputs": [
        {
          "data": {
            "text/plain": [
              "1"
            ]
          },
          "execution_count": 6,
          "metadata": {},
          "output_type": "execute_result"
        }
      ],
      "source": [
        "5 % 2"
      ]
    },
    {
      "cell_type": "code",
      "execution_count": null,
      "metadata": {
        "colab": {
          "base_uri": "https://localhost:8080/"
        },
        "id": "gHCQn4rPbXD1",
        "outputId": "3e1fdfbc-4ca3-45e4-b06c-8da94d593d84"
      },
      "outputs": [
        {
          "data": {
            "text/plain": [
              "50"
            ]
          },
          "execution_count": 7,
          "metadata": {},
          "output_type": "execute_result"
        }
      ],
      "source": [
        "(2 + 3) * (5 + 5)"
      ]
    },
    {
      "cell_type": "markdown",
      "metadata": {
        "id": "_dSpteF_cEAv"
      },
      "source": [
        "VARRIABLE"
      ]
    },
    {
      "cell_type": "code",
      "execution_count": null,
      "metadata": {
        "colab": {
          "base_uri": "https://localhost:8080/"
        },
        "id": "_BeBV8TYbaSX",
        "outputId": "30d84b5b-7e23-4d06-ceae-9cd6e0877584"
      },
      "outputs": [
        {
          "data": {
            "text/plain": [
              "5"
            ]
          },
          "execution_count": 8,
          "metadata": {},
          "output_type": "execute_result"
        }
      ],
      "source": [
        "name_of_var = 2\n",
        "x = 2\n",
        "y = 3\n",
        "z = x + y\n",
        "z"
      ]
    },
    {
      "cell_type": "markdown",
      "metadata": {
        "id": "uzyfZx8Rb-43"
      },
      "source": [
        "STRINGS"
      ]
    },
    {
      "cell_type": "code",
      "execution_count": null,
      "metadata": {
        "colab": {
          "base_uri": "https://localhost:8080/",
          "height": 36
        },
        "id": "THkN8SGwbtJd",
        "outputId": "9b36bba6-b7d5-47be-f8e3-1412167e2ea1"
      },
      "outputs": [
        {
          "data": {
            "application/vnd.google.colaboratory.intrinsic+json": {
              "type": "string"
            },
            "text/plain": [
              "'single quotes'"
            ]
          },
          "execution_count": 9,
          "metadata": {},
          "output_type": "execute_result"
        }
      ],
      "source": [
        "'single quotes'"
      ]
    },
    {
      "cell_type": "code",
      "execution_count": null,
      "metadata": {
        "colab": {
          "base_uri": "https://localhost:8080/",
          "height": 36
        },
        "id": "SfNbtvlNcNpN",
        "outputId": "0c63ef8a-5ae1-4875-be85-bbb7b0fbf035"
      },
      "outputs": [
        {
          "data": {
            "application/vnd.google.colaboratory.intrinsic+json": {
              "type": "string"
            },
            "text/plain": [
              "'double quotes'"
            ]
          },
          "execution_count": 10,
          "metadata": {},
          "output_type": "execute_result"
        }
      ],
      "source": [
        "\"double quotes\""
      ]
    },
    {
      "cell_type": "code",
      "execution_count": null,
      "metadata": {
        "colab": {
          "base_uri": "https://localhost:8080/",
          "height": 36
        },
        "id": "VyJCDgxmcPhO",
        "outputId": "3b03ea98-8986-4555-b120-8dbb3fcde276"
      },
      "outputs": [
        {
          "data": {
            "application/vnd.google.colaboratory.intrinsic+json": {
              "type": "string"
            },
            "text/plain": [
              "\" wrap lot's of other quotes\""
            ]
          },
          "execution_count": 11,
          "metadata": {},
          "output_type": "execute_result"
        }
      ],
      "source": [
        "\" wrap lot's of other quotes\""
      ]
    },
    {
      "cell_type": "markdown",
      "metadata": {
        "id": "IVOOnVaUcZrs"
      },
      "source": [
        "PRINTING\n"
      ]
    },
    {
      "cell_type": "code",
      "execution_count": null,
      "metadata": {
        "colab": {
          "base_uri": "https://localhost:8080/",
          "height": 36
        },
        "id": "saSUw20mcXGW",
        "outputId": "e6bf6b0f-0a3f-4c40-8ccd-9aa218f8faa3"
      },
      "outputs": [
        {
          "data": {
            "application/vnd.google.colaboratory.intrinsic+json": {
              "type": "string"
            },
            "text/plain": [
              "'hello'"
            ]
          },
          "execution_count": 12,
          "metadata": {},
          "output_type": "execute_result"
        }
      ],
      "source": [
        "x = 'hello'\n",
        "x\n"
      ]
    },
    {
      "cell_type": "code",
      "execution_count": null,
      "metadata": {
        "colab": {
          "base_uri": "https://localhost:8080/"
        },
        "id": "Ra_wfb3zcjGJ",
        "outputId": "7d0723af-a360-4fe0-dc3b-83e2716021f0"
      },
      "outputs": [
        {
          "name": "stdout",
          "output_type": "stream",
          "text": [
            "hello\n"
          ]
        }
      ],
      "source": [
        "print(x)\n"
      ]
    },
    {
      "cell_type": "code",
      "execution_count": null,
      "metadata": {
        "colab": {
          "base_uri": "https://localhost:8080/"
        },
        "id": "MwT7xJo6cowV",
        "outputId": "55552764-0aec-48b9-e9f3-14b252e16153"
      },
      "outputs": [
        {
          "name": "stdout",
          "output_type": "stream",
          "text": [
            "My number is: 12, and my name is: Sam\n"
          ]
        }
      ],
      "source": [
        "num = 12\n",
        "name = 'Sam'\n",
        "print('My number is: {one}, and my name is: {two}'.format(one=num,two=name))"
      ]
    },
    {
      "cell_type": "code",
      "execution_count": null,
      "metadata": {
        "colab": {
          "base_uri": "https://localhost:8080/"
        },
        "id": "2p24tm3bc8gI",
        "outputId": "0f17ca0f-bb4e-4ed7-9db8-58b7685c6588"
      },
      "outputs": [
        {
          "name": "stdout",
          "output_type": "stream",
          "text": [
            "My number is: 12, and my name is: Sam\n"
          ]
        }
      ],
      "source": [
        "print('My number is: {}, and my name is: {}'.format(num,name))"
      ]
    },
    {
      "cell_type": "markdown",
      "metadata": {
        "id": "4gDn7thodKr4"
      },
      "source": [
        "LISTS\n"
      ]
    },
    {
      "cell_type": "code",
      "execution_count": null,
      "metadata": {
        "colab": {
          "base_uri": "https://localhost:8080/"
        },
        "id": "NdkFft_hdQvO",
        "outputId": "8f18a466-663b-45eb-8746-30e12ac855f7"
      },
      "outputs": [
        {
          "data": {
            "text/plain": [
              "[1, 2, 3]"
            ]
          },
          "execution_count": 16,
          "metadata": {},
          "output_type": "execute_result"
        }
      ],
      "source": [
        "[1,2,3]"
      ]
    },
    {
      "cell_type": "code",
      "execution_count": null,
      "metadata": {
        "colab": {
          "base_uri": "https://localhost:8080/"
        },
        "id": "qJVDcwRFdWCA",
        "outputId": "563dfbe5-687a-4345-d0f8-eb5a53a31990"
      },
      "outputs": [
        {
          "data": {
            "text/plain": [
              "['hi', 1, [1, 2]]"
            ]
          },
          "execution_count": 17,
          "metadata": {},
          "output_type": "execute_result"
        }
      ],
      "source": [
        "['hi',1,[1,2]]"
      ]
    },
    {
      "cell_type": "code",
      "execution_count": null,
      "metadata": {
        "colab": {
          "base_uri": "https://localhost:8080/"
        },
        "id": "zg6CEpRudZpx",
        "outputId": "8e3c6cc7-4a28-49b0-d4c3-a1e1f134d46f"
      },
      "outputs": [
        {
          "data": {
            "text/plain": [
              "['a', 'b', 'c', 'd']"
            ]
          },
          "execution_count": 20,
          "metadata": {},
          "output_type": "execute_result"
        }
      ],
      "source": [
        "my_list = ['a','b','c']\n",
        "my_list.append('d')\n",
        "my_list"
      ]
    },
    {
      "cell_type": "code",
      "execution_count": null,
      "metadata": {
        "colab": {
          "base_uri": "https://localhost:8080/",
          "height": 36
        },
        "id": "ml8SLpd5dl2m",
        "outputId": "ccf891b3-9a45-48fa-af5b-a373ce541aca"
      },
      "outputs": [
        {
          "data": {
            "application/vnd.google.colaboratory.intrinsic+json": {
              "type": "string"
            },
            "text/plain": [
              "'a'"
            ]
          },
          "execution_count": 21,
          "metadata": {},
          "output_type": "execute_result"
        }
      ],
      "source": [
        "my_list[0]"
      ]
    },
    {
      "cell_type": "code",
      "execution_count": null,
      "metadata": {
        "colab": {
          "base_uri": "https://localhost:8080/",
          "height": 36
        },
        "id": "cEVtP7LUdyt9",
        "outputId": "0478ec02-7568-4a0e-bbb0-463304b92f7c"
      },
      "outputs": [
        {
          "data": {
            "application/vnd.google.colaboratory.intrinsic+json": {
              "type": "string"
            },
            "text/plain": [
              "'b'"
            ]
          },
          "execution_count": 22,
          "metadata": {},
          "output_type": "execute_result"
        }
      ],
      "source": [
        "my_list[1]\n"
      ]
    },
    {
      "cell_type": "code",
      "execution_count": null,
      "metadata": {
        "colab": {
          "base_uri": "https://localhost:8080/"
        },
        "id": "3gl_fTgbeKH3",
        "outputId": "9d7818ce-28fa-434b-8c3d-a82e3098d269"
      },
      "outputs": [
        {
          "data": {
            "text/plain": [
              "['b', 'c', 'd']"
            ]
          },
          "execution_count": 23,
          "metadata": {},
          "output_type": "execute_result"
        }
      ],
      "source": [
        "my_list[1:]"
      ]
    },
    {
      "cell_type": "code",
      "execution_count": null,
      "metadata": {
        "colab": {
          "base_uri": "https://localhost:8080/"
        },
        "id": "NAHMn_udeLne",
        "outputId": "57d300b3-da74-4742-bc47-48059ba94a94"
      },
      "outputs": [
        {
          "data": {
            "text/plain": [
              "['a']"
            ]
          },
          "execution_count": 24,
          "metadata": {},
          "output_type": "execute_result"
        }
      ],
      "source": [
        "my_list[:1]"
      ]
    },
    {
      "cell_type": "code",
      "execution_count": null,
      "metadata": {
        "colab": {
          "base_uri": "https://localhost:8080/"
        },
        "id": "F44smQwXeRng",
        "outputId": "65c8f6df-781b-4001-daae-745b62842d09"
      },
      "outputs": [
        {
          "data": {
            "text/plain": [
              "[0, 1, 2, 3, 4]"
            ]
          },
          "execution_count": 26,
          "metadata": {},
          "output_type": "execute_result"
        }
      ],
      "source": [
        "my_list[0] = 'NEW'\n",
        "list(range(5))\n"
      ]
    },
    {
      "cell_type": "code",
      "execution_count": null,
      "metadata": {
        "colab": {
          "base_uri": "https://localhost:8080/"
        },
        "id": "uDk5aoAPeuAm",
        "outputId": "61e775c6-e6df-4090-bab7-9b1023eb1921"
      },
      "outputs": [
        {
          "data": {
            "text/plain": [
              "['NEW', 'b', 'c', 'd']"
            ]
          },
          "execution_count": 27,
          "metadata": {},
          "output_type": "execute_result"
        }
      ],
      "source": [
        "my_list"
      ]
    },
    {
      "cell_type": "code",
      "execution_count": null,
      "metadata": {
        "colab": {
          "base_uri": "https://localhost:8080/"
        },
        "id": "FTQpgKRwez-d",
        "outputId": "af49449b-550b-4fb2-a572-3d03e9c134eb"
      },
      "outputs": [
        {
          "data": {
            "text/plain": [
              "[4, 5, ['target']]"
            ]
          },
          "execution_count": 29,
          "metadata": {},
          "output_type": "execute_result"
        }
      ],
      "source": [
        "nest = [1,2,3,[4,5,['target']]]\n",
        "nest[3]"
      ]
    },
    {
      "cell_type": "code",
      "execution_count": null,
      "metadata": {
        "colab": {
          "base_uri": "https://localhost:8080/"
        },
        "id": "wqWe4ypSg68u",
        "outputId": "f347b344-3290-49d9-c02d-6d4603bd453c"
      },
      "outputs": [
        {
          "data": {
            "text/plain": [
              "['target']"
            ]
          },
          "execution_count": 31,
          "metadata": {},
          "output_type": "execute_result"
        }
      ],
      "source": [
        "nest[3][2]"
      ]
    },
    {
      "cell_type": "code",
      "execution_count": null,
      "metadata": {
        "colab": {
          "base_uri": "https://localhost:8080/",
          "height": 36
        },
        "id": "BAM3SS8qg-bY",
        "outputId": "e865e3ff-8202-4b76-a596-be225b6649a9"
      },
      "outputs": [
        {
          "data": {
            "application/vnd.google.colaboratory.intrinsic+json": {
              "type": "string"
            },
            "text/plain": [
              "'target'"
            ]
          },
          "execution_count": 32,
          "metadata": {},
          "output_type": "execute_result"
        }
      ],
      "source": [
        "nest[3][2][0]"
      ]
    },
    {
      "cell_type": "markdown",
      "metadata": {
        "id": "DPHit5ZihTpj"
      },
      "source": [
        "Dictionaries\n"
      ]
    },
    {
      "cell_type": "code",
      "execution_count": null,
      "metadata": {
        "colab": {
          "base_uri": "https://localhost:8080/"
        },
        "id": "51VpU31_hX0N",
        "outputId": "4dae18c7-c872-4ed0-b8b3-bdc202f51f7b"
      },
      "outputs": [
        {
          "data": {
            "text/plain": [
              "{'key1': 'item1', 'key2': 'item2'}"
            ]
          },
          "execution_count": 34,
          "metadata": {},
          "output_type": "execute_result"
        }
      ],
      "source": [
        "d = {'key1':'item1','key2':'item2'}\n",
        "d"
      ]
    },
    {
      "cell_type": "markdown",
      "metadata": {
        "id": "2HV1ystthyqZ"
      },
      "source": [
        "BOLLEAN"
      ]
    },
    {
      "cell_type": "code",
      "source": [
        "True"
      ],
      "metadata": {
        "colab": {
          "base_uri": "https://localhost:8080/"
        },
        "id": "fNd7Mzihjo5C",
        "outputId": "b4d07c42-6225-41aa-f97f-c30d21a6552e"
      },
      "execution_count": 39,
      "outputs": [
        {
          "output_type": "execute_result",
          "data": {
            "text/plain": [
              "True"
            ]
          },
          "metadata": {},
          "execution_count": 39
        }
      ]
    },
    {
      "cell_type": "markdown",
      "source": [
        "Logic Operators\n"
      ],
      "metadata": {
        "id": "9AR-uHBtj0M_"
      }
    },
    {
      "cell_type": "code",
      "source": [
        "(1 == 2) or (2 == 3) or (4 == 4)"
      ],
      "metadata": {
        "colab": {
          "base_uri": "https://localhost:8080/"
        },
        "id": "_3JTnP8lj1z2",
        "outputId": "f39e6d74-b086-481f-ba32-835ef649933c"
      },
      "execution_count": 40,
      "outputs": [
        {
          "output_type": "execute_result",
          "data": {
            "text/plain": [
              "True"
            ]
          },
          "metadata": {},
          "execution_count": 40
        }
      ]
    },
    {
      "cell_type": "code",
      "source": [
        "(1 > 2) and (2 < 3)"
      ],
      "metadata": {
        "colab": {
          "base_uri": "https://localhost:8080/"
        },
        "id": "Uxo7yiapj6zp",
        "outputId": "c9084f51-467b-4e0c-ca55-2f38e720daba"
      },
      "execution_count": 41,
      "outputs": [
        {
          "output_type": "execute_result",
          "data": {
            "text/plain": [
              "False"
            ]
          },
          "metadata": {},
          "execution_count": 41
        }
      ]
    },
    {
      "cell_type": "markdown",
      "source": [
        "list comprehension"
      ],
      "metadata": {
        "id": "K5GO4uufkDJe"
      }
    },
    {
      "cell_type": "code",
      "source": [
        "a = (\"John\", \"Charles\", \"Mike\")\n",
        "b = (\"Jenny\", \"Christy\", \"Monica\")\n",
        "\n",
        "x = zip(a, b)\n",
        "\n",
        "#use the tuple() function to display a readable version of the result:\n",
        "\n",
        "print(tuple(x))"
      ],
      "metadata": {
        "colab": {
          "base_uri": "https://localhost:8080/"
        },
        "id": "Nyy5I2cYkEdW",
        "outputId": "f3960d9c-e03d-49e5-b461-ae8a2486c82f"
      },
      "execution_count": 42,
      "outputs": [
        {
          "output_type": "stream",
          "name": "stdout",
          "text": [
            "(('John', 'Jenny'), ('Charles', 'Christy'), ('Mike', 'Monica'))\n"
          ]
        }
      ]
    },
    {
      "cell_type": "code",
      "source": [],
      "metadata": {
        "id": "HM_nIxJdj-GT"
      },
      "execution_count": null,
      "outputs": []
    }
  ],
  "metadata": {
    "colab": {
      "provenance": []
    },
    "kernelspec": {
      "display_name": "Python 3",
      "name": "python3"
    },
    "language_info": {
      "name": "python"
    }
  },
  "nbformat": 4,
  "nbformat_minor": 0
}